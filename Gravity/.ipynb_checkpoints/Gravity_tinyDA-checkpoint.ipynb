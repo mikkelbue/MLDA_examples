{
 "cells": [
  {
   "cell_type": "code",
   "execution_count": 1,
   "metadata": {},
   "outputs": [],
   "source": [
    "import os\n",
    "os.environ[\"OMP_NUM_THREADS\"] = \"4\" # export OMP_NUM_THREADS=4\n",
    "os.environ[\"OPENBLAS_NUM_THREADS\"] = \"4\" # export OPENBLAS_NUM_THREADS=4 \n",
    "os.environ[\"MKL_NUM_THREADS\"] = \"4\" # export MKL_NUM_THREADS=6\n",
    "os.environ[\"VECLIB_MAXIMUM_THREADS\"] = \"4\" # export VECLIB_MAXIMUM_THREADS=4\n",
    "os.environ[\"NUMEXPR_NUM_THREADS\"] = \"4\" # export NUMEXPR_NUM_THREADS=6"
   ]
  },
  {
   "cell_type": "code",
   "execution_count": 2,
   "metadata": {},
   "outputs": [],
   "source": [
    "import time\n",
    "\n",
    "# Get the essentials\n",
    "import numpy as np\n",
    "from numpy.linalg import inv\n",
    "from scipy.stats import multivariate_normal\n",
    "\n",
    "import pandas as pd\n",
    "import matplotlib.pyplot as plt\n",
    "plt.style.use('ggplot')\n",
    "\n",
    "# Get interpolator for projecting eigenmodes between model levels.\n",
    "from scipy.spatial import distance_matrix\n",
    "from scipy.interpolate import interp2d\n",
    "from scipy.linalg import eigh\n",
    "\n",
    "import tinyDA as tda\n",
    "import arviz as az"
   ]
  },
  {
   "cell_type": "code",
   "execution_count": null,
   "metadata": {},
   "outputs": [],
   "source": [
    "np.random.seed(1234)"
   ]
  },
  {
   "cell_type": "code",
   "execution_count": 3,
   "metadata": {},
   "outputs": [],
   "source": [
    "class Matern32:\n",
    "    def __init__(self, coords, mkl, lamb):\n",
    "        \"\"\"\n",
    "        This class sets up a random process\n",
    "        on a grid and generates\n",
    "        a realisation of the process, given\n",
    "        parameters or a random vector.\n",
    "        \"\"\"\n",
    "        \n",
    "        # Internalise the grid and set number of vertices.\n",
    "        self.coords = coords\n",
    "        self.n_points = self.coords.shape[0]\n",
    "        self.eigenvalues = None\n",
    "        self.eigenvectors = None\n",
    "        self.parameters = None\n",
    "        self.random_field = None\n",
    "        \n",
    "        # Set some random field parameters.\n",
    "        self.mkl = mkl\n",
    "        self.lamb = lamb\n",
    "        \n",
    "        self.assemble_covariance_matrix()\n",
    "        \n",
    "    def assemble_covariance_matrix(self):        \n",
    "        \"\"\"\n",
    "        This method creates a Matern 5/2 covariance matrix.\n",
    "        \"\"\"\n",
    "        \n",
    "        # Compute scaled distances.\n",
    "        dist = np.sqrt(3)*distance_matrix(self.coords, self.coords)/self.lamb\n",
    "        \n",
    "        # Set up Matern 5/2 covariance matrix.\n",
    "        self.cov =  (1 + dist) * np.exp(-dist)\n",
    "    \n",
    "    def plot_covariance_matrix(self):\n",
    "        \"\"\"\n",
    "        Plot the covariance matrix.\n",
    "        \"\"\"\n",
    "        plt.figure(figsize=(10, 8))\n",
    "        plt.imshow(self.cov, cmap='binary')\n",
    "        plt.colorbar()\n",
    "        plt.show()\n",
    "    \n",
    "    def compute_eigenpairs(self):\n",
    "        \"\"\"\n",
    "        Find eigenvalues and eigenvectors using Arnoldi iteration.\n",
    "        \"\"\"\n",
    "        eigvals, eigvecs = eigh(self.cov,\n",
    "                                eigvals=(self.n_points - self.mkl,\n",
    "                                         self.n_points - 1))\n",
    "        \n",
    "        order = np.flip(np.argsort(eigvals))\n",
    "        self.eigenvalues = eigvals[order]\n",
    "        self.eigenvectors = eigvecs[:, order]\n",
    "      \n",
    "    def generate(self, parameters=None):\n",
    "        \"\"\"\n",
    "        Generate a random field, see\n",
    "        Scarth, C., Adhikari, S., Cabral, P. H.,\n",
    "        Silva, G. H. C., & Prado, A. P. do. (2019).\n",
    "        Random field simulation over curved surfaces:\n",
    "        Applications to computational structural mechanics.\n",
    "        Computer Methods in Applied Mechanics and Engineering,\n",
    "        345, 283–301. https://doi.org/10.1016/j.cma.2018.10.026\n",
    "        \"\"\"\n",
    "        \n",
    "        if parameters is None:\n",
    "            self.parameters = np.random.normal(size=self.mkl)\n",
    "        else:\n",
    "            self.parameters = np.array(parameters).flatten()\n",
    "        \n",
    "        self.random_field = np.linalg.multi_dot((self.eigenvectors, \n",
    "                                                 np.sqrt(np.diag(self.eigenvalues)), \n",
    "                                                 self.parameters))\n",
    "\n",
    "    def plot(self):\n",
    "        \"\"\"\n",
    "        Plot the random field.\n",
    "        \"\"\"\n",
    "\n",
    "        plt.figure(figsize=(12, 10))\n",
    "        plt.tricontourf(self.coords[:, 0], self.coords[:, 1],\n",
    "                        self.random_field,\n",
    "                        levels=np.linspace(min(self.random_field), max(self.random_field), 20),\n",
    "                        cmap='plasma')\n",
    "        plt.colorbar()\n",
    "        plt.show()"
   ]
  },
  {
   "cell_type": "code",
   "execution_count": 4,
   "metadata": {},
   "outputs": [],
   "source": [
    "class Gravity:\n",
    "    \"\"\"\n",
    "    Gravity is a class that implements a simple gravity surveying problem,\n",
    "    as described in Hansen, P. C. (2010). Discrete Inverse Problems: Insight and Algorithms. \n",
    "    Society for Industrial and Applied Mathematics.\n",
    "    It uses midpoint quadrature to evaluate a Fredholm integral of the first kind.\n",
    "    \"\"\"\n",
    "    \n",
    "    def __init__(self, f_function, depth, n_quad, n_data):\n",
    "        \n",
    "        # Set the function describing the distribution of subsurface density.\n",
    "        self.f_function = f_function\n",
    "        \n",
    "        # Set the depth of the density (distance to the surface measurements).\n",
    "        self.depth = depth\n",
    "        \n",
    "        # Set the quadrature degree along one dimension.\n",
    "        self.n_quad = n_quad;\n",
    "        \n",
    "        # Set the number of data points along one dimension\n",
    "        self.n_data = n_data\n",
    "        \n",
    "        # Set the quadrature points.\n",
    "        x = np.linspace(0, 1, self.n_quad+1); self.tx = (x[1:] + x[:-1]) / 2\n",
    "        y = np.linspace(0, 1, self.n_quad+1); self.ty = (y[1:] + y[:-1]) / 2\n",
    "        TX, TY = np.meshgrid(self.tx, self.ty)\n",
    "        \n",
    "        # Set the measurement points.\n",
    "        self.sx = np.linspace(0, 1, self.n_data)\n",
    "        self.sy = np.linspace(0, 1, self.n_data)\n",
    "        SX, SY = np.meshgrid(self.sx, self.sy)\n",
    "        \n",
    "        # Create coordinate vectors.\n",
    "        self.T_coords = np.c_[TX.ravel(), TY.ravel(), np.zeros(self.n_quad**2)]\n",
    "        self.S_coords = np.c_[SX.ravel(), SY.ravel(), self.depth*np.ones(self.n_data**2)]\n",
    "        \n",
    "        # Set the quadrature weights.\n",
    "        self.w = 1/self.n_quad**2\n",
    "        \n",
    "        # Compute a distance matrix\n",
    "        dist = distance_matrix(self.S_coords, self.T_coords)\n",
    "        \n",
    "        # Create the Fredholm kernel.\n",
    "        self.K = self.w * self.depth/dist**3\n",
    "        \n",
    "        # Evaluate the density function on the quadrature points.\n",
    "        self.f = self.f_function(TX, TY).flatten()\n",
    "        \n",
    "        # Compute the surface density (noiseless measurements)\n",
    "        self.g = np.dot(self.K, self.f)\n",
    "    \n",
    "    def plot_model(self):\n",
    "        \n",
    "        # Plot the density and the signal.\n",
    "        fig, axes = plt.subplots(1,2, figsize=(16,6))\n",
    "        axes[0].set_title('Density')\n",
    "        f = axes[0].imshow(self.f.reshape(self.n_quad, self.n_quad), extent=(0,1,0,1), origin='lower', cmap='plasma')\n",
    "        fig.colorbar(f, ax=axes[0])\n",
    "        axes[1].set_title('Signal')\n",
    "        g = axes[1].imshow(self.g.reshape(self.n_data, self.n_data), extent=(0,1,0,1), origin='lower', cmap='plasma')\n",
    "        fig.colorbar(g, ax=axes[1])\n",
    "        plt.show()\n",
    "        \n",
    "    def plot_kernel(self):\n",
    "        \n",
    "        # Plot the kernel.\n",
    "        plt.figure(figsize=(8,6))\n",
    "        plt.imshow(self.K, cmap='plasma'); plt.colorbar()\n",
    "        plt.show()"
   ]
  },
  {
   "cell_type": "code",
   "execution_count": 5,
   "metadata": {},
   "outputs": [],
   "source": [
    "class Gravity_Forward(Gravity):\n",
    "    \"\"\"\n",
    "    Gravity forward is a class that implements the gravity problem,\n",
    "    but computation of signal and density is delayed to the \"solve\"\n",
    "    method, since it relied on a Gaussian Random Field to model\n",
    "    the (unknown) density.\n",
    "    \"\"\"\n",
    "    def __init__(self, depth, n_quad, n_data):\n",
    "        \n",
    "        # Set the depth of the density (distance to the surface measurements).\n",
    "        self.depth = depth\n",
    "        \n",
    "        # Set the quadrature degree along one axis.\n",
    "        self.n_quad = n_quad;\n",
    "        \n",
    "        # Set the number of data points along one axis.\n",
    "        self.n_data = n_data\n",
    "        \n",
    "        # Set the quadrature points.\n",
    "        x = np.linspace(0, 1, self.n_quad+1); self.tx = (x[1:] + x[:-1]) / 2\n",
    "        y = np.linspace(0, 1, self.n_quad+1); self.ty = (y[1:] + y[:-1]) / 2\n",
    "        TX, TY = np.meshgrid(self.tx, self.ty)\n",
    "        \n",
    "        # Set the measurement points.\n",
    "        self.sx = np.linspace(0, 1, self.n_data)\n",
    "        self.sy = np.linspace(0, 1, self.n_data)\n",
    "        SX, SY = np.meshgrid(self.sx, self.sy)\n",
    "        \n",
    "        # Create coordinate vectors.\n",
    "        self.T_coords = np.c_[TX.ravel(), TY.ravel(), np.zeros(self.n_quad**2)]\n",
    "        self.S_coords = np.c_[SX.ravel(), SY.ravel(), self.depth*np.ones(self.n_data**2)]\n",
    "        \n",
    "        # Set the quadrature weights.\n",
    "        self.w = 1/self.n_quad**2\n",
    "        \n",
    "        # Compute a distance matrix\n",
    "        dist = distance_matrix(self.S_coords, self.T_coords)\n",
    "        \n",
    "        # Create the Fremholm kernel.\n",
    "        self.K = self.w * self.depth/dist**3\n",
    "        \n",
    "    def set_random_process(self, random_process, lamb, mkl):\n",
    "        \n",
    "        # Set covariance length scale\n",
    "        self.lamb = lamb\n",
    "        \n",
    "        # Set the number of KL modes.\n",
    "        self.mkl = mkl\n",
    "        \n",
    "        # Initialise a random process on the quadrature points.\n",
    "        # and compute the eigenpairs of the covariance matrix,\n",
    "        self.random_process = random_process(self.T_coords, self.mkl, self.lamb)\n",
    "        self.random_process.compute_eigenpairs()\n",
    "    \n",
    "    def solve(self, parameters):\n",
    "        \n",
    "        # Internalise the Random Field parameters\n",
    "        self.parameters = parameters\n",
    "        \n",
    "        # Create a realisation of the random process, given the parameters.\n",
    "        self.random_process.generate(self.parameters)\n",
    "        mean = 0.0; stdev = 1.0;\n",
    "        \n",
    "        # Set the density.\n",
    "        self.f = mean + stdev*self.random_process.random_field\n",
    "        \n",
    "        # Compute the signal.\n",
    "        self.g = np.dot(self.K, self.f)\n",
    "        \n",
    "    def get_data(self):\n",
    "        \n",
    "        # Get the data vector.\n",
    "        return self.g\n",
    "    \n",
    "    def __call__(self, parameters):\n",
    "        self.solve(parameters)\n",
    "        return self.g"
   ]
  },
  {
   "cell_type": "code",
   "execution_count": 6,
   "metadata": {},
   "outputs": [],
   "source": [
    "def f(TX, TY):\n",
    "    f = np.zeros(TX.shape)\n",
    "    f[((TX-0.5)**2 + (TY-0.5)**2) < 0.25**2] = 1\n",
    "    return f"
   ]
  },
  {
   "cell_type": "code",
   "execution_count": 7,
   "metadata": {},
   "outputs": [],
   "source": [
    "# We project the eigenmodes of the fine model to the quadrature points\n",
    "# of the coarse model using linear interpolation.\n",
    "def project_eigenmodes(model_coarse, model_fine):\n",
    "    model_coarse.random_process.eigenvalues = model_fine.random_process.eigenvalues \n",
    "    for i in range(model_coarse.mkl):\n",
    "        interpolator = interp2d(model_fine.tx, model_fine.ty, model_fine.random_process.eigenvectors[:,i].reshape(model_fine.n_quad, model_fine.n_quad))\n",
    "        model_coarse.random_process.eigenvectors[:,i] = interpolator(model_coarse.tx, model_coarse.ty).ravel()"
   ]
  },
  {
   "cell_type": "code",
   "execution_count": 8,
   "metadata": {},
   "outputs": [
    {
     "data": {
      "image/png": "[encoded data removed]",
      "text/plain": [
       "<Figure size 1152x432 with 4 Axes>"
      ]
     },
     "metadata": {
      "needs_background": "light"
     },
     "output_type": "display_data"
    }
   ],
   "source": [
    "# Set the model parameters.\n",
    "depth = 0.1\n",
    "n_quad = 60\n",
    "n_data = 60\n",
    "\n",
    "# Initialise a model\n",
    "model_true = Gravity(f, depth, n_quad, n_data)\n",
    "\n",
    "model_true.plot_model()"
   ]
  },
  {
   "cell_type": "code",
   "execution_count": 9,
   "metadata": {},
   "outputs": [],
   "source": [
    "# Add noise to the data.\n",
    "noise_level = 0.1\n",
    "noise = np.random.normal(0, noise_level, n_data**2)\n",
    "data = model_true.g + noise"
   ]
  },
  {
   "cell_type": "code",
   "execution_count": 10,
   "metadata": {},
   "outputs": [],
   "source": [
    "# Set random process parameters.\n",
    "#lamb = 0.3\n",
    "#mkl = 12\n",
    "lamb = 0.2\n",
    "mkl = 16\n",
    "\n",
    "# Set the quadrature degree for each model level (coarsest first)\n",
    "n_quadrature = [20, 60]\n",
    "n_datapoints = [60, 60]\n",
    "\n",
    "# Initialise the models, according the quadrature degree.\n",
    "my_models = []\n",
    "for i, (n_quad, n_data) in enumerate(zip(n_quadrature, n_datapoints)):\n",
    "     my_models.append(Gravity_Forward(depth, n_quad, n_data))\n",
    "     my_models[i].set_random_process(Matern32, lamb, mkl)\n",
    "    \n",
    "# Project the eigenmodes of the fine model to the coarse model.\n",
    "for m in my_models[:-1]:\n",
    "    project_eigenmodes(m, my_models[-1])"
   ]
  },
  {
   "cell_type": "code",
   "execution_count": 11,
   "metadata": {},
   "outputs": [
    {
     "name": "stdout",
     "output_type": "stream",
     "text": [
      "Level 0:\n"
     ]
    },
    {
     "data": {
      "image/png": "[encoded data removed]",
      "text/plain": [
       "<Figure size 1152x432 with 4 Axes>"
      ]
     },
     "metadata": {
      "needs_background": "light"
     },
     "output_type": "display_data"
    },
    {
     "name": "stdout",
     "output_type": "stream",
     "text": [
      "Level 1:\n"
     ]
    },
    {
     "data": {
      "image/png": "[encoded data removed]",
      "text/plain": [
       "<Figure size 1152x432 with 4 Axes>"
      ]
     },
     "metadata": {
      "needs_background": "light"
     },
     "output_type": "display_data"
    }
   ],
   "source": [
    "# Plot the same random realisation for each level, and the corresponding signal,\n",
    "# to validate that the levels are equivalents.\n",
    "for i, m in enumerate(my_models):\n",
    "    print('Level {}:'.format(i))\n",
    "    np.random.seed(1234)\n",
    "    m.solve(np.random.normal(size=mkl))\n",
    "    m.plot_model()"
   ]
  },
  {
   "cell_type": "code",
   "execution_count": 12,
   "metadata": {},
   "outputs": [
    {
     "data": {
      "image/png": "[encoded data removed]",
      "text/plain": [
       "<Figure size 1152x432 with 4 Axes>"
      ]
     },
     "metadata": {
      "needs_background": "light"
     },
     "output_type": "display_data"
    }
   ],
   "source": [
    "plt.rcParams.update({'font.size': 14})\n",
    "\n",
    "# Plot the density and the signal.\n",
    "fig, axes = plt.subplots(1, 2, figsize=(16,6))\n",
    "\n",
    "axes[0].set_title('True Density', fontsize=16)\n",
    "t = axes[0].imshow(model_true.f.reshape(model_true.n_quad, model_true.n_quad), extent=(0,1,0,1), origin='lower', cmap='plasma')\n",
    "fig.colorbar(t, ax=axes[0])\n",
    "axes[0].grid(False)\n",
    "\n",
    "axes[1].set_title('Signal', fontsize=16)\n",
    "c = axes[1].imshow(data.reshape(n_datapoints[0], n_datapoints[0]), extent=(0,1,0,1), origin='lower', cmap='plasma')\n",
    "fig.colorbar(c, ax=axes[1])\n",
    "axes[1].grid(False)\n",
    "\n",
    "plt.show()"
   ]
  },
  {
   "cell_type": "code",
   "execution_count": 13,
   "metadata": {},
   "outputs": [
    {
     "data": {
      "image/png": "[encoded data removed]",
      "text/plain": [
       "<Figure size 1152x432 with 4 Axes>"
      ]
     },
     "metadata": {
      "needs_background": "light"
     },
     "output_type": "display_data"
    }
   ],
   "source": [
    "np.random.seed(1234)\n",
    "random_parameters = np.random.normal(size=mkl)\n",
    "for m in my_models:\n",
    "    m.solve(random_parameters)\n",
    "\n",
    "# Plot the density and the signal.\n",
    "fig, axes = plt.subplots(1,2, figsize=(16,6))\n",
    "\n",
    "axes[0].set_title('Coarse Model', fontsize=16)\n",
    "f = axes[0].imshow(my_models[0].f.reshape(my_models[0].n_quad, my_models[0].n_quad), extent=(0,1,0,1), origin='lower', cmap='plasma')\n",
    "fig.colorbar(f, ax=axes[0])\n",
    "axes[0].grid(False)\n",
    "\n",
    "axes[1].set_title('Fine Model', fontsize=16)\n",
    "d = axes[1].imshow(my_models[1].f.reshape(my_models[1].n_quad, my_models[1].n_quad), extent=(0,1,0,1), origin='lower', cmap='plasma')\n",
    "fig.colorbar(d, ax=axes[1])\n",
    "axes[1].grid(False)\n",
    "\n",
    "plt.show()"
   ]
  },
  {
   "cell_type": "code",
   "execution_count": 14,
   "metadata": {},
   "outputs": [
    {
     "name": "stdout",
     "output_type": "stream",
     "text": [
      "65.3 µs ± 134 ns per loop (mean ± std. dev. of 7 runs, 10,000 loops each)\n"
     ]
    }
   ],
   "source": [
    "%%timeit\n",
    "my_models[0].solve(np.random.normal(size=mkl))"
   ]
  },
  {
   "cell_type": "code",
   "execution_count": 15,
   "metadata": {},
   "outputs": [
    {
     "name": "stdout",
     "output_type": "stream",
     "text": [
      "1.71 ms ± 17.2 µs per loop (mean ± std. dev. of 7 runs, 1,000 loops each)\n"
     ]
    }
   ],
   "source": [
    "%%timeit\n",
    "my_models[1].solve(np.random.normal(size=mkl))"
   ]
  },
  {
   "cell_type": "code",
   "execution_count": 16,
   "metadata": {},
   "outputs": [],
   "source": [
    "mu_prior = np.zeros(mkl)\n",
    "sigma_prior = np.eye(mkl)\n",
    "\n",
    "my_prior = multivariate_normal(mean=mu_prior, cov=sigma_prior)\n",
    "my_likelihood = tda.GaussianLogLike(data, np.eye(data.size))"
   ]
  },
  {
   "cell_type": "code",
   "execution_count": 17,
   "metadata": {},
   "outputs": [],
   "source": [
    "my_link_factory_coarse = tda.BlackBoxLinkFactory(my_models[0], my_prior, my_likelihood)\n",
    "my_link_factory_fine = tda.BlackBoxLinkFactory(my_models[1], my_prior, my_likelihood)"
   ]
  },
  {
   "cell_type": "code",
   "execution_count": 18,
   "metadata": {},
   "outputs": [],
   "source": [
    "MAP = tda.get_MAP(my_link_factory_fine)"
   ]
  },
  {
   "cell_type": "code",
   "execution_count": 19,
   "metadata": {},
   "outputs": [],
   "source": [
    "force_sequential = True"
   ]
  },
  {
   "cell_type": "code",
   "execution_count": 20,
   "metadata": {},
   "outputs": [],
   "source": [
    "# adaptive Metropolis\n",
    "am_cov = 0.001*np.eye(mu_prior.size)\n",
    "am_t0 = 1000\n",
    "my_proposal = tda.AdaptiveMetropolis(C0=am_cov, t0=am_t0)"
   ]
  },
  {
   "cell_type": "code",
   "execution_count": 21,
   "metadata": {},
   "outputs": [
    {
     "name": "stdout",
     "output_type": "stream",
     "text": [
      "Sampling chain 1/4\n"
     ]
    },
    {
     "name": "stderr",
     "output_type": "stream",
     "text": [
      "Running chain, α = 0.30: 100%|█████████████████████████████████████████████████████████████████████████████████████████████████████████████████████████████████████████████████████████████████████████| 12000/12000 [00:45<00:00, 263.33it/s]\n"
     ]
    },
    {
     "name": "stdout",
     "output_type": "stream",
     "text": [
      "Sampling chain 2/4\n"
     ]
    },
    {
     "name": "stderr",
     "output_type": "stream",
     "text": [
      "Running chain, α = 0.30: 100%|█████████████████████████████████████████████████████████████████████████████████████████████████████████████████████████████████████████████████████████████████████████| 12000/12000 [00:45<00:00, 263.52it/s]\n"
     ]
    },
    {
     "name": "stdout",
     "output_type": "stream",
     "text": [
      "Sampling chain 3/4\n"
     ]
    },
    {
     "name": "stderr",
     "output_type": "stream",
     "text": [
      "Running chain, α = 0.42: 100%|█████████████████████████████████████████████████████████████████████████████████████████████████████████████████████████████████████████████████████████████████████████| 12000/12000 [00:45<00:00, 265.33it/s]\n"
     ]
    },
    {
     "name": "stdout",
     "output_type": "stream",
     "text": [
      "Sampling chain 4/4\n"
     ]
    },
    {
     "name": "stderr",
     "output_type": "stream",
     "text": [
      "Running chain, α = 0.30: 100%|█████████████████████████████████████████████████████████████████████████████████████████████████████████████████████████████████████████████████████████████████████████| 12000/12000 [00:46<00:00, 256.25it/s]\n"
     ]
    }
   ],
   "source": [
    "start = time.time()\n",
    "metropolis_chains = tda.sample(my_link_factory_fine, my_proposal, iterations=12000, n_chains=4, initial_parameters=MAP, force_sequential=force_sequential)\n",
    "metropolis_runtime = time.time() - start"
   ]
  },
  {
   "cell_type": "code",
   "execution_count": 22,
   "metadata": {},
   "outputs": [
    {
     "name": "stderr",
     "output_type": "stream",
     "text": [
      "/home/mikkel/venv/tinyda/lib/python3.8/site-packages/arviz/data/inference_data.py:146: UserWarning: qoi group is not defined in the InferenceData scheme\n",
      "  warnings.warn(\n"
     ]
    }
   ],
   "source": [
    "metropolis_samples = tda.to_inference_data(metropolis_chains, burnin=2000)"
   ]
  },
  {
   "cell_type": "code",
   "execution_count": 23,
   "metadata": {},
   "outputs": [
    {
     "name": "stdout",
     "output_type": "stream",
     "text": [
      "183.19444489479065\n"
     ]
    }
   ],
   "source": [
    "print(metropolis_runtime)"
   ]
  },
  {
   "cell_type": "code",
   "execution_count": 24,
   "metadata": {},
   "outputs": [
    {
     "data": {
      "text/html": [
       "<div>\n",
       "<style scoped>\n",
       "    .dataframe tbody tr th:only-of-type {\n",
       "        vertical-align: middle;\n",
       "    }\n",
       "\n",
       "    .dataframe tbody tr th {\n",
       "        vertical-align: top;\n",
       "    }\n",
       "\n",
       "    .dataframe thead th {\n",
       "        text-align: right;\n",
       "    }\n",
       "</style>\n",
       "<table border=\"1\" class=\"dataframe\">\n",
       "  <thead>\n",
       "    <tr style=\"text-align: right;\">\n",
       "      <th></th>\n",
       "      <th>mean</th>\n",
       "      <th>sd</th>\n",
       "      <th>hdi_3%</th>\n",
       "      <th>hdi_97%</th>\n",
       "      <th>mcse_mean</th>\n",
       "      <th>mcse_sd</th>\n",
       "      <th>ess_bulk</th>\n",
       "      <th>ess_tail</th>\n",
       "      <th>r_hat</th>\n",
       "    </tr>\n",
       "  </thead>\n",
       "  <tbody>\n",
       "    <tr>\n",
       "      <th>theta_0</th>\n",
       "      <td>0.665</td>\n",
       "      <td>0.009</td>\n",
       "      <td>0.649</td>\n",
       "      <td>0.682</td>\n",
       "      <td>0.000</td>\n",
       "      <td>0.000</td>\n",
       "      <td>845.0</td>\n",
       "      <td>1926.0</td>\n",
       "      <td>1.00</td>\n",
       "    </tr>\n",
       "    <tr>\n",
       "      <th>theta_1</th>\n",
       "      <td>-0.000</td>\n",
       "      <td>0.014</td>\n",
       "      <td>-0.026</td>\n",
       "      <td>0.027</td>\n",
       "      <td>0.001</td>\n",
       "      <td>0.000</td>\n",
       "      <td>798.0</td>\n",
       "      <td>1772.0</td>\n",
       "      <td>1.01</td>\n",
       "    </tr>\n",
       "    <tr>\n",
       "      <th>theta_2</th>\n",
       "      <td>-0.000</td>\n",
       "      <td>0.014</td>\n",
       "      <td>-0.027</td>\n",
       "      <td>0.025</td>\n",
       "      <td>0.000</td>\n",
       "      <td>0.000</td>\n",
       "      <td>874.0</td>\n",
       "      <td>1519.0</td>\n",
       "      <td>1.01</td>\n",
       "    </tr>\n",
       "    <tr>\n",
       "      <th>theta_3</th>\n",
       "      <td>0.004</td>\n",
       "      <td>0.021</td>\n",
       "      <td>-0.035</td>\n",
       "      <td>0.043</td>\n",
       "      <td>0.001</td>\n",
       "      <td>0.001</td>\n",
       "      <td>732.0</td>\n",
       "      <td>1767.0</td>\n",
       "      <td>1.00</td>\n",
       "    </tr>\n",
       "    <tr>\n",
       "      <th>theta_4</th>\n",
       "      <td>1.135</td>\n",
       "      <td>0.025</td>\n",
       "      <td>1.085</td>\n",
       "      <td>1.180</td>\n",
       "      <td>0.001</td>\n",
       "      <td>0.001</td>\n",
       "      <td>755.0</td>\n",
       "      <td>1467.0</td>\n",
       "      <td>1.01</td>\n",
       "    </tr>\n",
       "    <tr>\n",
       "      <th>theta_5</th>\n",
       "      <td>0.000</td>\n",
       "      <td>0.026</td>\n",
       "      <td>-0.048</td>\n",
       "      <td>0.050</td>\n",
       "      <td>0.001</td>\n",
       "      <td>0.001</td>\n",
       "      <td>686.0</td>\n",
       "      <td>1620.0</td>\n",
       "      <td>1.01</td>\n",
       "    </tr>\n",
       "    <tr>\n",
       "      <th>theta_6</th>\n",
       "      <td>0.001</td>\n",
       "      <td>0.035</td>\n",
       "      <td>-0.068</td>\n",
       "      <td>0.065</td>\n",
       "      <td>0.001</td>\n",
       "      <td>0.001</td>\n",
       "      <td>734.0</td>\n",
       "      <td>1374.0</td>\n",
       "      <td>1.00</td>\n",
       "    </tr>\n",
       "    <tr>\n",
       "      <th>theta_7</th>\n",
       "      <td>-0.010</td>\n",
       "      <td>0.036</td>\n",
       "      <td>-0.077</td>\n",
       "      <td>0.060</td>\n",
       "      <td>0.001</td>\n",
       "      <td>0.001</td>\n",
       "      <td>731.0</td>\n",
       "      <td>1627.0</td>\n",
       "      <td>1.01</td>\n",
       "    </tr>\n",
       "    <tr>\n",
       "      <th>theta_8</th>\n",
       "      <td>0.002</td>\n",
       "      <td>0.049</td>\n",
       "      <td>-0.093</td>\n",
       "      <td>0.092</td>\n",
       "      <td>0.002</td>\n",
       "      <td>0.001</td>\n",
       "      <td>576.0</td>\n",
       "      <td>1211.0</td>\n",
       "      <td>1.01</td>\n",
       "    </tr>\n",
       "    <tr>\n",
       "      <th>theta_9</th>\n",
       "      <td>-0.004</td>\n",
       "      <td>0.047</td>\n",
       "      <td>-0.091</td>\n",
       "      <td>0.084</td>\n",
       "      <td>0.002</td>\n",
       "      <td>0.001</td>\n",
       "      <td>704.0</td>\n",
       "      <td>1544.0</td>\n",
       "      <td>1.01</td>\n",
       "    </tr>\n",
       "    <tr>\n",
       "      <th>theta_10</th>\n",
       "      <td>0.715</td>\n",
       "      <td>0.055</td>\n",
       "      <td>0.610</td>\n",
       "      <td>0.816</td>\n",
       "      <td>0.002</td>\n",
       "      <td>0.002</td>\n",
       "      <td>506.0</td>\n",
       "      <td>1298.0</td>\n",
       "      <td>1.01</td>\n",
       "    </tr>\n",
       "    <tr>\n",
       "      <th>theta_11</th>\n",
       "      <td>0.000</td>\n",
       "      <td>0.060</td>\n",
       "      <td>-0.108</td>\n",
       "      <td>0.115</td>\n",
       "      <td>0.003</td>\n",
       "      <td>0.002</td>\n",
       "      <td>483.0</td>\n",
       "      <td>1136.0</td>\n",
       "      <td>1.01</td>\n",
       "    </tr>\n",
       "    <tr>\n",
       "      <th>theta_12</th>\n",
       "      <td>0.005</td>\n",
       "      <td>0.060</td>\n",
       "      <td>-0.103</td>\n",
       "      <td>0.117</td>\n",
       "      <td>0.003</td>\n",
       "      <td>0.002</td>\n",
       "      <td>494.0</td>\n",
       "      <td>932.0</td>\n",
       "      <td>1.01</td>\n",
       "    </tr>\n",
       "    <tr>\n",
       "      <th>theta_13</th>\n",
       "      <td>-0.004</td>\n",
       "      <td>0.091</td>\n",
       "      <td>-0.181</td>\n",
       "      <td>0.166</td>\n",
       "      <td>0.004</td>\n",
       "      <td>0.003</td>\n",
       "      <td>531.0</td>\n",
       "      <td>829.0</td>\n",
       "      <td>1.03</td>\n",
       "    </tr>\n",
       "    <tr>\n",
       "      <th>theta_14</th>\n",
       "      <td>0.007</td>\n",
       "      <td>0.089</td>\n",
       "      <td>-0.173</td>\n",
       "      <td>0.164</td>\n",
       "      <td>0.004</td>\n",
       "      <td>0.003</td>\n",
       "      <td>599.0</td>\n",
       "      <td>1123.0</td>\n",
       "      <td>1.01</td>\n",
       "    </tr>\n",
       "    <tr>\n",
       "      <th>theta_15</th>\n",
       "      <td>-0.540</td>\n",
       "      <td>0.089</td>\n",
       "      <td>-0.710</td>\n",
       "      <td>-0.374</td>\n",
       "      <td>0.004</td>\n",
       "      <td>0.003</td>\n",
       "      <td>412.0</td>\n",
       "      <td>877.0</td>\n",
       "      <td>1.03</td>\n",
       "    </tr>\n",
       "  </tbody>\n",
       "</table>\n",
       "</div>"
      ],
      "text/plain": [
       "           mean     sd  hdi_3%  hdi_97%  mcse_mean  mcse_sd  ess_bulk  \\\n",
       "theta_0   0.665  0.009   0.649    0.682      0.000    0.000     845.0   \n",
       "theta_1  -0.000  0.014  -0.026    0.027      0.001    0.000     798.0   \n",
       "theta_2  -0.000  0.014  -0.027    0.025      0.000    0.000     874.0   \n",
       "theta_3   0.004  0.021  -0.035    0.043      0.001    0.001     732.0   \n",
       "theta_4   1.135  0.025   1.085    1.180      0.001    0.001     755.0   \n",
       "theta_5   0.000  0.026  -0.048    0.050      0.001    0.001     686.0   \n",
       "theta_6   0.001  0.035  -0.068    0.065      0.001    0.001     734.0   \n",
       "theta_7  -0.010  0.036  -0.077    0.060      0.001    0.001     731.0   \n",
       "theta_8   0.002  0.049  -0.093    0.092      0.002    0.001     576.0   \n",
       "theta_9  -0.004  0.047  -0.091    0.084      0.002    0.001     704.0   \n",
       "theta_10  0.715  0.055   0.610    0.816      0.002    0.002     506.0   \n",
       "theta_11  0.000  0.060  -0.108    0.115      0.003    0.002     483.0   \n",
       "theta_12  0.005  0.060  -0.103    0.117      0.003    0.002     494.0   \n",
       "theta_13 -0.004  0.091  -0.181    0.166      0.004    0.003     531.0   \n",
       "theta_14  0.007  0.089  -0.173    0.164      0.004    0.003     599.0   \n",
       "theta_15 -0.540  0.089  -0.710   -0.374      0.004    0.003     412.0   \n",
       "\n",
       "          ess_tail  r_hat  \n",
       "theta_0     1926.0   1.00  \n",
       "theta_1     1772.0   1.01  \n",
       "theta_2     1519.0   1.01  \n",
       "theta_3     1767.0   1.00  \n",
       "theta_4     1467.0   1.01  \n",
       "theta_5     1620.0   1.01  \n",
       "theta_6     1374.0   1.00  \n",
       "theta_7     1627.0   1.01  \n",
       "theta_8     1211.0   1.01  \n",
       "theta_9     1544.0   1.01  \n",
       "theta_10    1298.0   1.01  \n",
       "theta_11    1136.0   1.01  \n",
       "theta_12     932.0   1.01  \n",
       "theta_13     829.0   1.03  \n",
       "theta_14    1123.0   1.01  \n",
       "theta_15     877.0   1.03  "
      ]
     },
     "execution_count": 24,
     "metadata": {},
     "output_type": "execute_result"
    }
   ],
   "source": [
    "az.summary(metropolis_samples)"
   ]
  },
  {
   "cell_type": "code",
   "execution_count": 25,
   "metadata": {},
   "outputs": [],
   "source": [
    "# adaptive Metropolis\n",
    "am_cov = 0.001*np.eye(mu_prior.size)\n",
    "am_t0 = 1000\n",
    "my_proposal = tda.AdaptiveMetropolis(C0=am_cov, t0=am_t0)"
   ]
  },
  {
   "cell_type": "code",
   "execution_count": 26,
   "metadata": {},
   "outputs": [
    {
     "name": "stdout",
     "output_type": "stream",
     "text": [
      "Sampling chain 1/4\n"
     ]
    },
    {
     "name": "stderr",
     "output_type": "stream",
     "text": [
      "Running chain, α_c = 0.336, α_f = 0.97: 100%|█████████████████████████████████████████████████████████████████████████████████████████████████████████████████████████████████████████████████████████████| 1200/1200 [00:16<00:00, 73.41it/s]\n"
     ]
    },
    {
     "name": "stdout",
     "output_type": "stream",
     "text": [
      "Sampling chain 2/4\n"
     ]
    },
    {
     "name": "stderr",
     "output_type": "stream",
     "text": [
      "Running chain, α_c = 0.333, α_f = 0.96: 100%|█████████████████████████████████████████████████████████████████████████████████████████████████████████████████████████████████████████████████████████████| 1200/1200 [00:16<00:00, 74.47it/s]\n"
     ]
    },
    {
     "name": "stdout",
     "output_type": "stream",
     "text": [
      "Sampling chain 3/4\n"
     ]
    },
    {
     "name": "stderr",
     "output_type": "stream",
     "text": [
      "Running chain, α_c = 0.348, α_f = 0.94: 100%|█████████████████████████████████████████████████████████████████████████████████████████████████████████████████████████████████████████████████████████████| 1200/1200 [00:16<00:00, 74.89it/s]\n"
     ]
    },
    {
     "name": "stdout",
     "output_type": "stream",
     "text": [
      "Sampling chain 4/4\n"
     ]
    },
    {
     "name": "stderr",
     "output_type": "stream",
     "text": [
      "Running chain, α_c = 0.311, α_f = 0.95: 100%|█████████████████████████████████████████████████████████████████████████████████████████████████████████████████████████████████████████████████████████████| 1200/1200 [00:15<00:00, 75.03it/s]\n"
     ]
    }
   ],
   "source": [
    "start = time.time()\n",
    "mlda_chains = tda.sample([my_link_factory_coarse, my_link_factory_fine], my_proposal, iterations=1200, n_chains=4, initial_parameters=MAP, subsampling_rate=10, force_sequential=force_sequential)\n",
    "mlda_runtime = time.time() - start"
   ]
  },
  {
   "cell_type": "code",
   "execution_count": 27,
   "metadata": {},
   "outputs": [
    {
     "name": "stderr",
     "output_type": "stream",
     "text": [
      "/home/mikkel/venv/tinyda/lib/python3.8/site-packages/arviz/data/inference_data.py:146: UserWarning: qoi group is not defined in the InferenceData scheme\n",
      "  warnings.warn(\n"
     ]
    }
   ],
   "source": [
    "mlda_samples = tda.to_inference_data(mlda_chains, burnin=200)"
   ]
  },
  {
   "cell_type": "code",
   "execution_count": 28,
   "metadata": {},
   "outputs": [
    {
     "name": "stdout",
     "output_type": "stream",
     "text": [
      "64.50346350669861\n"
     ]
    }
   ],
   "source": [
    "print(mlda_runtime)"
   ]
  },
  {
   "cell_type": "code",
   "execution_count": 29,
   "metadata": {},
   "outputs": [
    {
     "data": {
      "text/html": [
       "<div>\n",
       "<style scoped>\n",
       "    .dataframe tbody tr th:only-of-type {\n",
       "        vertical-align: middle;\n",
       "    }\n",
       "\n",
       "    .dataframe tbody tr th {\n",
       "        vertical-align: top;\n",
       "    }\n",
       "\n",
       "    .dataframe thead th {\n",
       "        text-align: right;\n",
       "    }\n",
       "</style>\n",
       "<table border=\"1\" class=\"dataframe\">\n",
       "  <thead>\n",
       "    <tr style=\"text-align: right;\">\n",
       "      <th></th>\n",
       "      <th>mean</th>\n",
       "      <th>sd</th>\n",
       "      <th>hdi_3%</th>\n",
       "      <th>hdi_97%</th>\n",
       "      <th>mcse_mean</th>\n",
       "      <th>mcse_sd</th>\n",
       "      <th>ess_bulk</th>\n",
       "      <th>ess_tail</th>\n",
       "      <th>r_hat</th>\n",
       "    </tr>\n",
       "  </thead>\n",
       "  <tbody>\n",
       "    <tr>\n",
       "      <th>theta_0</th>\n",
       "      <td>0.665</td>\n",
       "      <td>0.009</td>\n",
       "      <td>0.649</td>\n",
       "      <td>0.681</td>\n",
       "      <td>0.000</td>\n",
       "      <td>0.000</td>\n",
       "      <td>812.0</td>\n",
       "      <td>1614.0</td>\n",
       "      <td>1.00</td>\n",
       "    </tr>\n",
       "    <tr>\n",
       "      <th>theta_1</th>\n",
       "      <td>-0.001</td>\n",
       "      <td>0.015</td>\n",
       "      <td>-0.026</td>\n",
       "      <td>0.030</td>\n",
       "      <td>0.001</td>\n",
       "      <td>0.000</td>\n",
       "      <td>854.0</td>\n",
       "      <td>1403.0</td>\n",
       "      <td>1.00</td>\n",
       "    </tr>\n",
       "    <tr>\n",
       "      <th>theta_2</th>\n",
       "      <td>0.001</td>\n",
       "      <td>0.015</td>\n",
       "      <td>-0.027</td>\n",
       "      <td>0.027</td>\n",
       "      <td>0.001</td>\n",
       "      <td>0.000</td>\n",
       "      <td>744.0</td>\n",
       "      <td>1390.0</td>\n",
       "      <td>1.00</td>\n",
       "    </tr>\n",
       "    <tr>\n",
       "      <th>theta_3</th>\n",
       "      <td>0.003</td>\n",
       "      <td>0.022</td>\n",
       "      <td>-0.037</td>\n",
       "      <td>0.043</td>\n",
       "      <td>0.001</td>\n",
       "      <td>0.001</td>\n",
       "      <td>628.0</td>\n",
       "      <td>1274.0</td>\n",
       "      <td>1.01</td>\n",
       "    </tr>\n",
       "    <tr>\n",
       "      <th>theta_4</th>\n",
       "      <td>1.135</td>\n",
       "      <td>0.026</td>\n",
       "      <td>1.087</td>\n",
       "      <td>1.184</td>\n",
       "      <td>0.001</td>\n",
       "      <td>0.001</td>\n",
       "      <td>723.0</td>\n",
       "      <td>1335.0</td>\n",
       "      <td>1.00</td>\n",
       "    </tr>\n",
       "    <tr>\n",
       "      <th>theta_5</th>\n",
       "      <td>0.000</td>\n",
       "      <td>0.025</td>\n",
       "      <td>-0.047</td>\n",
       "      <td>0.048</td>\n",
       "      <td>0.001</td>\n",
       "      <td>0.001</td>\n",
       "      <td>795.0</td>\n",
       "      <td>1503.0</td>\n",
       "      <td>1.01</td>\n",
       "    </tr>\n",
       "    <tr>\n",
       "      <th>theta_6</th>\n",
       "      <td>0.006</td>\n",
       "      <td>0.036</td>\n",
       "      <td>-0.055</td>\n",
       "      <td>0.078</td>\n",
       "      <td>0.001</td>\n",
       "      <td>0.001</td>\n",
       "      <td>686.0</td>\n",
       "      <td>1301.0</td>\n",
       "      <td>1.01</td>\n",
       "    </tr>\n",
       "    <tr>\n",
       "      <th>theta_7</th>\n",
       "      <td>-0.010</td>\n",
       "      <td>0.035</td>\n",
       "      <td>-0.080</td>\n",
       "      <td>0.053</td>\n",
       "      <td>0.001</td>\n",
       "      <td>0.001</td>\n",
       "      <td>803.0</td>\n",
       "      <td>1162.0</td>\n",
       "      <td>1.00</td>\n",
       "    </tr>\n",
       "    <tr>\n",
       "      <th>theta_8</th>\n",
       "      <td>-0.001</td>\n",
       "      <td>0.050</td>\n",
       "      <td>-0.098</td>\n",
       "      <td>0.090</td>\n",
       "      <td>0.002</td>\n",
       "      <td>0.001</td>\n",
       "      <td>562.0</td>\n",
       "      <td>875.0</td>\n",
       "      <td>1.01</td>\n",
       "    </tr>\n",
       "    <tr>\n",
       "      <th>theta_9</th>\n",
       "      <td>-0.003</td>\n",
       "      <td>0.048</td>\n",
       "      <td>-0.086</td>\n",
       "      <td>0.092</td>\n",
       "      <td>0.002</td>\n",
       "      <td>0.001</td>\n",
       "      <td>597.0</td>\n",
       "      <td>1260.0</td>\n",
       "      <td>1.01</td>\n",
       "    </tr>\n",
       "    <tr>\n",
       "      <th>theta_10</th>\n",
       "      <td>0.715</td>\n",
       "      <td>0.053</td>\n",
       "      <td>0.613</td>\n",
       "      <td>0.812</td>\n",
       "      <td>0.002</td>\n",
       "      <td>0.001</td>\n",
       "      <td>689.0</td>\n",
       "      <td>1147.0</td>\n",
       "      <td>1.02</td>\n",
       "    </tr>\n",
       "    <tr>\n",
       "      <th>theta_11</th>\n",
       "      <td>0.004</td>\n",
       "      <td>0.061</td>\n",
       "      <td>-0.114</td>\n",
       "      <td>0.115</td>\n",
       "      <td>0.002</td>\n",
       "      <td>0.002</td>\n",
       "      <td>635.0</td>\n",
       "      <td>1406.0</td>\n",
       "      <td>1.01</td>\n",
       "    </tr>\n",
       "    <tr>\n",
       "      <th>theta_12</th>\n",
       "      <td>0.006</td>\n",
       "      <td>0.065</td>\n",
       "      <td>-0.119</td>\n",
       "      <td>0.125</td>\n",
       "      <td>0.003</td>\n",
       "      <td>0.002</td>\n",
       "      <td>383.0</td>\n",
       "      <td>1310.0</td>\n",
       "      <td>1.02</td>\n",
       "    </tr>\n",
       "    <tr>\n",
       "      <th>theta_13</th>\n",
       "      <td>-0.013</td>\n",
       "      <td>0.093</td>\n",
       "      <td>-0.200</td>\n",
       "      <td>0.152</td>\n",
       "      <td>0.004</td>\n",
       "      <td>0.003</td>\n",
       "      <td>561.0</td>\n",
       "      <td>1007.0</td>\n",
       "      <td>1.01</td>\n",
       "    </tr>\n",
       "    <tr>\n",
       "      <th>theta_14</th>\n",
       "      <td>-0.002</td>\n",
       "      <td>0.094</td>\n",
       "      <td>-0.189</td>\n",
       "      <td>0.169</td>\n",
       "      <td>0.004</td>\n",
       "      <td>0.003</td>\n",
       "      <td>445.0</td>\n",
       "      <td>919.0</td>\n",
       "      <td>1.01</td>\n",
       "    </tr>\n",
       "    <tr>\n",
       "      <th>theta_15</th>\n",
       "      <td>-0.535</td>\n",
       "      <td>0.092</td>\n",
       "      <td>-0.707</td>\n",
       "      <td>-0.355</td>\n",
       "      <td>0.004</td>\n",
       "      <td>0.003</td>\n",
       "      <td>664.0</td>\n",
       "      <td>1380.0</td>\n",
       "      <td>1.00</td>\n",
       "    </tr>\n",
       "  </tbody>\n",
       "</table>\n",
       "</div>"
      ],
      "text/plain": [
       "           mean     sd  hdi_3%  hdi_97%  mcse_mean  mcse_sd  ess_bulk  \\\n",
       "theta_0   0.665  0.009   0.649    0.681      0.000    0.000     812.0   \n",
       "theta_1  -0.001  0.015  -0.026    0.030      0.001    0.000     854.0   \n",
       "theta_2   0.001  0.015  -0.027    0.027      0.001    0.000     744.0   \n",
       "theta_3   0.003  0.022  -0.037    0.043      0.001    0.001     628.0   \n",
       "theta_4   1.135  0.026   1.087    1.184      0.001    0.001     723.0   \n",
       "theta_5   0.000  0.025  -0.047    0.048      0.001    0.001     795.0   \n",
       "theta_6   0.006  0.036  -0.055    0.078      0.001    0.001     686.0   \n",
       "theta_7  -0.010  0.035  -0.080    0.053      0.001    0.001     803.0   \n",
       "theta_8  -0.001  0.050  -0.098    0.090      0.002    0.001     562.0   \n",
       "theta_9  -0.003  0.048  -0.086    0.092      0.002    0.001     597.0   \n",
       "theta_10  0.715  0.053   0.613    0.812      0.002    0.001     689.0   \n",
       "theta_11  0.004  0.061  -0.114    0.115      0.002    0.002     635.0   \n",
       "theta_12  0.006  0.065  -0.119    0.125      0.003    0.002     383.0   \n",
       "theta_13 -0.013  0.093  -0.200    0.152      0.004    0.003     561.0   \n",
       "theta_14 -0.002  0.094  -0.189    0.169      0.004    0.003     445.0   \n",
       "theta_15 -0.535  0.092  -0.707   -0.355      0.004    0.003     664.0   \n",
       "\n",
       "          ess_tail  r_hat  \n",
       "theta_0     1614.0   1.00  \n",
       "theta_1     1403.0   1.00  \n",
       "theta_2     1390.0   1.00  \n",
       "theta_3     1274.0   1.01  \n",
       "theta_4     1335.0   1.00  \n",
       "theta_5     1503.0   1.01  \n",
       "theta_6     1301.0   1.01  \n",
       "theta_7     1162.0   1.00  \n",
       "theta_8      875.0   1.01  \n",
       "theta_9     1260.0   1.01  \n",
       "theta_10    1147.0   1.02  \n",
       "theta_11    1406.0   1.01  \n",
       "theta_12    1310.0   1.02  \n",
       "theta_13    1007.0   1.01  \n",
       "theta_14     919.0   1.01  \n",
       "theta_15    1380.0   1.00  "
      ]
     },
     "execution_count": 29,
     "metadata": {},
     "output_type": "execute_result"
    }
   ],
   "source": [
    "az.summary(mlda_samples)"
   ]
  },
  {
   "cell_type": "code",
   "execution_count": 48,
   "metadata": {},
   "outputs": [
    {
     "data": {
      "image/png": "[encoded data removed]",
      "text/plain": [
       "<Figure size 1152x360 with 1 Axes>"
      ]
     },
     "metadata": {
      "needs_background": "light"
     },
     "output_type": "display_data"
    }
   ],
   "source": [
    "plt.figure(figsize=(16,5))\n",
    "plt.bar(np.arange(16)-0.2, az.summary(metropolis_samples)['ess_bulk'].values/metropolis_runtime, width=0.4, label='Metropolis')\n",
    "plt.bar(np.arange(16)+0.2, az.summary(mlda_samples)['ess_bulk'].values/mlda_runtime, width=0.4, label='MLDA')\n",
    "plt.xticks(np.arange(16), np.arange(16))\n",
    "plt.legend()\n",
    "plt.show()"
   ]
  },
  {
   "cell_type": "code",
   "execution_count": 41,
   "metadata": {},
   "outputs": [
    {
     "data": {
      "text/plain": [
       "array([ 0,  1,  2,  3,  4,  5,  6,  7,  8,  9, 10, 11, 12, 13, 14, 15])"
      ]
     },
     "execution_count": 41,
     "metadata": {},
     "output_type": "execute_result"
    }
   ],
   "source": [
    "np.arange(16)"
   ]
  },
  {
   "cell_type": "code",
   "execution_count": null,
   "metadata": {},
   "outputs": [],
   "source": []
  }
 ],
 "metadata": {
  "kernelspec": {
   "display_name": "tinyda",
   "language": "python",
   "name": "tinyda"
  },
  "language_info": {
   "codemirror_mode": {
    "name": "ipython",
    "version": 3
   },
   "file_extension": ".py",
   "mimetype": "text/x-python",
   "name": "python",
   "nbconvert_exporter": "python",
   "pygments_lexer": "ipython3",
   "version": "3.8.10"
  }
 },
 "nbformat": 4,
 "nbformat_minor": 4
}
